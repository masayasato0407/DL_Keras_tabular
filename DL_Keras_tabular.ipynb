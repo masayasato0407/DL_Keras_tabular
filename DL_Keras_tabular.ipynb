{
  "nbformat": 4,
  "nbformat_minor": 0,
  "metadata": {
    "colab": {
      "provenance": [],
      "authorship_tag": "ABX9TyNtq34bTLVDM12wMu5k2qiW",
      "include_colab_link": true
    },
    "kernelspec": {
      "name": "python3",
      "display_name": "Python 3"
    },
    "language_info": {
      "name": "python"
    }
  },
  "cells": [
    {
      "cell_type": "markdown",
      "metadata": {
        "id": "view-in-github",
        "colab_type": "text"
      },
      "source": [
        "<a href=\"https://colab.research.google.com/github/masayasato0407/DL_Keras_tabular/blob/main/DL_Keras_tabular.ipynb\" target=\"_parent\"><img src=\"https://colab.research.google.com/assets/colab-badge.svg\" alt=\"Open In Colab\"/></a>"
      ]
    },
    {
      "cell_type": "code",
      "execution_count": null,
      "metadata": {
        "id": "Os72A2iNQ-tu"
      },
      "outputs": [],
      "source": [
        "# 必要なライブラリのインストール\n",
        "!pip install scikit-optimize keras-tuner"
      ]
    },
    {
      "cell_type": "code",
      "source": [
        "# 必要なライブラリのインポート\n",
        "from google.colab import files\n",
        "import pandas as pd\n",
        "from sklearn.model_selection import train_test_split\n",
        "from sklearn.preprocessing import StandardScaler\n",
        "from sklearn.metrics import accuracy_score, roc_auc_score\n",
        "from tensorflow.keras.models import Sequential\n",
        "from tensorflow.keras.layers import Dense, Dropout\n",
        "from kerastuner.tuners import BayesianOptimization"
      ],
      "metadata": {
        "id": "CtPxz7d-RJXv"
      },
      "execution_count": null,
      "outputs": []
    },
    {
      "cell_type": "code",
      "source": [
        "# training dataのアップロード\n",
        "uploaded = files.upload()"
      ],
      "metadata": {
        "id": "Y-cnrMwtRJaJ"
      },
      "execution_count": null,
      "outputs": []
    },
    {
      "cell_type": "code",
      "source": [
        "# test dataのアップロード\n",
        "uploaded = files.upload()"
      ],
      "metadata": {
        "id": "2Af4sYh7RJch"
      },
      "execution_count": null,
      "outputs": []
    },
    {
      "cell_type": "code",
      "source": [
        "# CSVファイルの読み込み\n",
        "train_data = pd.read_csv('train.csv')\n",
        "test_data = pd.read_csv('test.csv')"
      ],
      "metadata": {
        "id": "HEPAIuH_RJeq"
      },
      "execution_count": null,
      "outputs": []
    },
    {
      "cell_type": "code",
      "source": [
        "# 説明変数と目的変数 (event)の分割\n",
        "X_train = train_data.drop('event', axis=1)\n",
        "y_train = train_data['event']\n",
        "X_test = test_data.drop('event', axis=1)\n",
        "y_test = test_data['event']"
      ],
      "metadata": {
        "id": "vh0sMgRBRJgx"
      },
      "execution_count": null,
      "outputs": []
    },
    {
      "cell_type": "code",
      "source": [
        "# データの標準化\n",
        "scaler = StandardScaler()\n",
        "X_train_scaled = scaler.fit_transform(X_train)\n",
        "X_test_scaled = scaler.transform(X_test)"
      ],
      "metadata": {
        "id": "xailGVThRJi5"
      },
      "execution_count": null,
      "outputs": []
    },
    {
      "cell_type": "code",
      "source": [
        "# モデル構築関数\n",
        "def build_model(hp):\n",
        "    model = Sequential()\n",
        "    model.add(Dense(units=hp.Int('units', min_value=32, max_value=512, step=32), activation='relu', input_shape=(X_train_scaled.shape[1],)))\n",
        "    model.add(Dropout(rate=hp.Float('dropout', min_value=0.0, max_value=0.5, step=0.1)))\n",
        "    model.add(Dense(1, activation='sigmoid'))\n",
        "\n",
        "    model.compile(optimizer='adam',\n",
        "                  loss='binary_crossentropy',\n",
        "                  metrics=['accuracy'])\n",
        "    return model"
      ],
      "metadata": {
        "id": "a6fyqVSfSEIw"
      },
      "execution_count": null,
      "outputs": []
    },
    {
      "cell_type": "code",
      "source": [
        "# ベイズ最適化によるハイパーパラメータチューニング\n",
        "tuner = BayesianOptimization(\n",
        "    build_model,\n",
        "    objective='val_accuracy',\n",
        "    max_trials=10,\n",
        "    executions_per_trial=1,\n",
        "    directory='my_dir',\n",
        "    project_name='bayesian_opt'\n",
        ")"
      ],
      "metadata": {
        "id": "Bt7_KXgWSELI"
      },
      "execution_count": null,
      "outputs": []
    },
    {
      "cell_type": "code",
      "source": [
        "# モデルの探索\n",
        "tuner.search(X_train_scaled, y_train, epochs=10, validation_split=0.2, verbose=1)"
      ],
      "metadata": {
        "id": "rp_U7t_GSENY"
      },
      "execution_count": null,
      "outputs": []
    },
    {
      "cell_type": "code",
      "source": [
        "# 最良モデルの取得と評価\n",
        "best_model = tuner.get_best_models(num_models=1)[0]\n",
        "y_pred_proba = best_model.predict(X_test_scaled).ravel()\n",
        "y_pred = (y_pred_proba > 0.5).astype(int)"
      ],
      "metadata": {
        "id": "4c9NFguFSEPo"
      },
      "execution_count": null,
      "outputs": []
    },
    {
      "cell_type": "code",
      "source": [
        "# 正診率とAUCの計算\n",
        "accuracy = accuracy_score(y_test, y_pred)\n",
        "roc_auc = roc_auc_score(y_test, y_pred_proba)\n",
        "\n",
        "print(f'Accuracy: {accuracy}')\n",
        "print(f'ROC AUC: {roc_auc}')"
      ],
      "metadata": {
        "id": "gFhoTfdmSESI"
      },
      "execution_count": null,
      "outputs": []
    },
    {
      "cell_type": "code",
      "source": [
        "#Permutation importanceを用いた変数重要度の算出\n",
        "from sklearn.base import BaseEstimator, ClassifierMixin\n",
        "from sklearn.metrics import accuracy_score\n",
        "\n",
        "# Kerasモデルのラッパーを作成\n",
        "class KerasClassifierWrapper(BaseEstimator, ClassifierMixin):\n",
        "    def __init__(self, model):\n",
        "        self.model = model\n",
        "\n",
        "    def fit(self, X, y):\n",
        "        self.model.fit(X, y, epochs=10, batch_size=32, verbose=0)\n",
        "        return self\n",
        "\n",
        "    def predict(self, X):\n",
        "        y_pred = (self.model.predict(X) > 0.5).astype(\"int32\")\n",
        "        return y_pred\n",
        "\n",
        "    def score(self, X, y):\n",
        "        # accuracyを使ってスコアを返す\n",
        "        y_pred = self.predict(X)\n",
        "        return accuracy_score(y, y_pred)\n",
        "\n",
        "# Kerasモデルをラップ\n",
        "wrapped_model = KerasClassifierWrapper(best_model)"
      ],
      "metadata": {
        "id": "HkZ7WgUcXxUQ"
      },
      "execution_count": null,
      "outputs": []
    },
    {
      "cell_type": "code",
      "source": [
        "from sklearn.inspection import permutation_importance\n",
        "\n",
        "# Kerasモデルのラップしたものを用いて変数重要度を計算\n",
        "importance = permutation_importance(wrapped_model, X_test_scaled, y_test, n_repeats=10, random_state=0)\n",
        "\n",
        "# 結果の表示\n",
        "for i in importance.importances_mean.argsort()[::-1]:\n",
        "    if importance.importances_mean[i] - 2 * importance.importances_std[i] > 0:\n",
        "        print(f\"{X_train.columns[i]}: {importance.importances_mean[i]:.3f} ± {importance.importances_std[i]:.3f}\")"
      ],
      "metadata": {
        "id": "zjXTsAJsXDiI"
      },
      "execution_count": null,
      "outputs": []
    },
    {
      "cell_type": "code",
      "source": [
        "# 予測結果をCSVに出力\n",
        "output_df = pd.DataFrame({'Actual': y_test, 'Predicted': y_pred, 'Probability': y_pred_proba})\n",
        "output_df.to_csv('prediction_results.csv', index=False)"
      ],
      "metadata": {
        "id": "YsECTU1kRJlC"
      },
      "execution_count": null,
      "outputs": []
    },
    {
      "cell_type": "code",
      "source": [
        "# CSVファイルをダウンロードする\n",
        "files.download('prediction_results.csv')"
      ],
      "metadata": {
        "id": "WQSz9qScRJm5"
      },
      "execution_count": null,
      "outputs": []
    }
  ]
}